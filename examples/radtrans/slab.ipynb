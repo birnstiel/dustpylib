{
 "cells": [
  {
   "cell_type": "markdown",
   "id": "cf6cc3b2-123e-4688-972c-7c8cb182f2ff",
   "metadata": {},
   "source": [
    "# Slab model"
   ]
  },
  {
   "cell_type": "markdown",
   "id": "c3c2a083-b922-4708-bdbb-449aef1a7e07",
   "metadata": {},
   "source": [
    "The purpose of `dustpylib.radtrans.slab` is to implement a simple, plane-parallel slab solution for protoplanetary disks and to compute those based on files from `DustPy` simulations.  \n",
    "\n",
    "In this notebook we are going to produce a radio images from the [planetary gaps example](https://stammler.github.io/dustpy/example_planetary_gaps.html) in the `DustPy` documentation. This repository contains a reduced `DustPy` output file of the final snapshot of the example model only containing the fields that are required to produce the `RADMC-3D` model. We will use the same to compute such an image with the slab model for comparison.\n",
    "\n",
    "All quantities are in CGS units."
   ]
  },
  {
   "cell_type": "markdown",
   "id": "890a49c2-8837-45db-a761-b3c49d69e264",
   "metadata": {},
   "source": [
    "In the first step we need to load the `DustPy` data file using the `hdf5writer` for this."
   ]
  },
  {
   "cell_type": "code",
   "execution_count": null,
   "id": "b05addfe-ae95-4ad8-8cd3-8efdc7eb1fff",
   "metadata": {},
   "outputs": [],
   "source": [
    "from pathlib import Path\n",
    "\n",
    "import numpy as np\n",
    "import matplotlib.pyplot as plt\n",
    "\n",
    "from dustpy import hdf5writer\n",
    "import dustpy.constants as c\n",
    "from dustpylib.radtrans import radmc3d"
   ]
  },
  {
   "cell_type": "code",
   "execution_count": null,
   "id": "7f5c30e7",
   "metadata": {},
   "outputs": [],
   "source": [
    "writer = hdf5writer()\n",
    "writer.datadir = \"example_planetary_gaps\"\n",
    "data = writer.read.output(21)"
   ]
  },
  {
   "cell_type": "markdown",
   "id": "575397e8-8823-462f-b0ac-b7277f88e0ec",
   "metadata": {},
   "source": [
    "## Creating the `RADMC-3D` model for comparison"
   ]
  },
  {
   "cell_type": "markdown",
   "id": "178197ac-6a75-4987-9908-c76b91a66c2a",
   "metadata": {},
   "source": [
    "To compare the results of the slab model with a \"ground truth\" result use `RADMC-3D`. The following cells are taken from the `radmc3d.ipynb` notebook but only creates the setup and computes the radio image."
   ]
  },
  {
   "cell_type": "code",
   "execution_count": null,
   "id": "305527fb-9bb7-4e16-8c33-fe15058d2a9a",
   "metadata": {},
   "outputs": [],
   "source": [
    "plt.rcParams[\"figure.dpi\"] = 150.\n",
    "rt = radmc3d.Model(data)\n",
    "\n",
    "\n",
    "# temporary fix for old data file\n",
    "rt.R_star_ = rt.R_star_[0]\n",
    "rt.M_star_ = rt.M_star_[0]\n",
    "rt.T_star_ = rt.T_star_[0]\n",
    "\n",
    "\n",
    "\n",
    "rt.phii_grid = np.array([0., 2.*np.pi])\n",
    "rt.ai_grid = np.geomspace(rt.a_dust_.min(), 1., 17)\n",
    "rt.radmc3d_options[\"nphot\"] = 500_000\n",
    "rt.radmc3d_options[\"nphot_scat\"] = 500_000\n",
    "rt.radmc3d_options[\"nphot_spec\"] = 10_000\n",
    "rt.radmc3d_options[\"mc_scat_maxtauabs\"] = 5.\n",
    "rt.radmc3d_options[\"dust_2daniso_nphi\"] = 60\n",
    "rt.datadir = \"radmc3d\"\n",
    "rt.write_files()\n",
    "img_name = Path(rt.datadir) / 'image_radio.out'"
   ]
  },
  {
   "cell_type": "markdown",
   "id": "7421382e-1242-4015-b207-e8fd1b3b6905",
   "metadata": {},
   "source": [
    "Run these to compute/rename the image file if you want to re-recreate it"
   ]
  },
  {
   "cell_type": "markdown",
   "id": "8690e01e-6332-4fff-af9d-f2696f2aa27e",
   "metadata": {},
   "source": [
    "    !cd {rt.datadir} && radmc3d image lambda 1300 sizeau 100 npixx 512 npixy 512 setthreads 8\n",
    "    !mv  {Path(rt.datadir) / 'image.out'} {img_name}"
   ]
  },
  {
   "cell_type": "code",
   "execution_count": null,
   "id": "d6c70413-673b-4409-b1c7-c1c59b7ce9d6",
   "metadata": {},
   "outputs": [],
   "source": [
    "image_radio = radmc3d.read_image(img_name)"
   ]
  },
  {
   "cell_type": "code",
   "execution_count": null,
   "id": "ea4253ad-4386-41fa-8837-d9a66b650efd",
   "metadata": {},
   "outputs": [],
   "source": [
    "x, y = image_radio[\"x\"] / c.au, image_radio[\"y\"] / c.au\n",
    "\n",
    "fig, ax = plt.subplots(figsize=(6, 6))\n",
    "ax.set_aspect(1)\n",
    "pcm = ax.pcolormesh(\n",
    "    x, y, image_radio[\"I\"][..., 0].T,\n",
    "    cmap=\"inferno\", vmin=0, vmax=image_radio['I'].max())\n",
    "ax.set(xlabel=r\"$X\\,\\left[\\mathrm{au}\\right]$\", ylabel=r\"$Y\\,\\left[\\mathrm{au}\\right]$\")\n",
    "\n",
    "pos = ax.get_position()\n",
    "cbar = fig.colorbar(pcm, cax=fig.add_axes([1.02 * pos.x1, pos.y0, 0.02, pos.y1 - pos.y0]))\n",
    "cbar.set_label(r\"Intensity [erg/s/cm²/Hz/ster]\")"
   ]
  },
  {
   "cell_type": "code",
   "execution_count": null,
   "id": "068d2432",
   "metadata": {},
   "outputs": [],
   "source": [
    "from dustpylib.radtrans import slab"
   ]
  },
  {
   "cell_type": "code",
   "execution_count": null,
   "id": "eeb15326",
   "metadata": {},
   "outputs": [],
   "source": [
    "if rt.opacity == 'birnstiel2018':\n",
    "    opacity_file = 'default_opacities_smooth.npz'\n",
    "else:\n",
    "    opacity_file = None"
   ]
  },
  {
   "cell_type": "code",
   "execution_count": null,
   "id": "831d2107",
   "metadata": {},
   "outputs": [],
   "source": [
    "from importlib import reload\n",
    "from dustpylib.radtrans.slab import slab\n",
    "reload(slab)"
   ]
  },
  {
   "cell_type": "code",
   "execution_count": null,
   "id": "72aa4093",
   "metadata": {},
   "outputs": [],
   "source": [
    "opac = slab.Opacity(opacity_file)\n",
    "lam = image_radio['lambda']"
   ]
  },
  {
   "cell_type": "markdown",
   "id": "dcfd2253-79ee-4eed-94e2-5062668ed34d",
   "metadata": {},
   "source": [
    "-----"
   ]
  },
  {
   "cell_type": "code",
   "execution_count": null,
   "id": "ffeae2d5-2a49-4cf3-8295-9cf0f7cb0b10",
   "metadata": {},
   "outputs": [],
   "source": [
    "from scipy.interpolate import RegularGridInterpolator"
   ]
  },
  {
   "cell_type": "code",
   "execution_count": null,
   "id": "d46d2c79-953a-4e31-b510-b127952d9fda",
   "metadata": {},
   "outputs": [],
   "source": [
    "opac._lam.shape"
   ]
  },
  {
   "cell_type": "code",
   "execution_count": null,
   "id": "c6adbf01-4587-4541-8a16-d759fd820556",
   "metadata": {},
   "outputs": [],
   "source": [
    "opac._a.shape"
   ]
  },
  {
   "cell_type": "code",
   "execution_count": null,
   "id": "bd9910d0-b9f7-435c-b30a-413f74c58d98",
   "metadata": {},
   "outputs": [],
   "source": [
    "opac._k_abs.shape"
   ]
  },
  {
   "cell_type": "code",
   "execution_count": null,
   "id": "dfa14319-dcf2-4ba0-b784-c21f3eda892c",
   "metadata": {},
   "outputs": [],
   "source": [
    "lam = np.array([0., 1.])\n",
    "a = np.linspace(1, 2, 1)\n",
    "k_abs = np.arange(len(lam)*len(a)).reshape(len(a), len(lam))\n",
    "#k_abs = np.array([3., 4.])"
   ]
  },
  {
   "cell_type": "code",
   "execution_count": null,
   "id": "fe4eb3f3-626d-4649-be71-776c97b99261",
   "metadata": {},
   "outputs": [],
   "source": [
    "_interp_k_abs = RegularGridInterpolator((lam, a), k_abs.T)"
   ]
  },
  {
   "cell_type": "markdown",
   "id": "ed2cf769-f27b-48ae-b447-fcb1d184b70e",
   "metadata": {},
   "source": [
    "-----"
   ]
  },
  {
   "cell_type": "code",
   "execution_count": null,
   "id": "8293e759",
   "metadata": {},
   "outputs": [],
   "source": [
    "from scipy.stats import binned_statistic\n",
    "X, Y = np.meshgrid(image_radio['x'], image_radio['y'], indexing='ij')\n",
    "R = np.sqrt(X**2 + Y**2)\n",
    "# define the bins\n",
    "ri_bins = np.geomspace(np.abs(R).min(), R.max(), 100)\n",
    "r_bins = 0.5 * (ri_bins[1:] + ri_bins[:-1])\n",
    "# get the averaged intensity profile\n",
    "profile = binned_statistic(R.ravel(), image_radio['I'][...,0].ravel(), bins=ri_bins).statistic"
   ]
  },
  {
   "cell_type": "code",
   "execution_count": null,
   "id": "1c84632d",
   "metadata": {},
   "outputs": [],
   "source": [
    "f, ax = plt.subplots()\n",
    "ax.loglog(data.grid.r / c.au, obs.I_nu[0, 0, :] * slab.jy_sas)\n",
    "ax.loglog(r_bins / c.au, profile)\n",
    "ax.set(ylim=[1e-15, 1e-11], xlim=[1, 200]);"
   ]
  }
 ],
 "metadata": {
  "kernelspec": {
   "display_name": "Pixi-dustpy",
   "language": "python",
   "name": "pixi-dustpy"
  },
  "language_info": {
   "codemirror_mode": {
    "name": "ipython",
    "version": 3
   },
   "file_extension": ".py",
   "mimetype": "text/x-python",
   "name": "python",
   "nbconvert_exporter": "python",
   "pygments_lexer": "ipython3",
   "version": "3.12.10"
  }
 },
 "nbformat": 4,
 "nbformat_minor": 5
}
